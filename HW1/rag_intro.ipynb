{
 "cells": [
  {
   "cell_type": "markdown",
   "id": "69744338",
   "metadata": {},
   "source": [
    "## LLM Zoomcamp \n",
    "\n",
    "### HW1"
   ]
  },
  {
   "cell_type": "markdown",
   "id": "70fa6fa5",
   "metadata": {},
   "source": [
    "### Q1 - Running Elastic Search"
   ]
  },
  {
   "cell_type": "code",
   "execution_count": 1,
   "id": "829d29c6",
   "metadata": {},
   "outputs": [
    {
     "name": "stdout",
     "output_type": "stream",
     "text": [
      "Cluster health: {'cluster_name': 'docker-cluster', 'status': 'green', 'timed_out': False, 'number_of_nodes': 1, 'number_of_data_nodes': 1, 'active_primary_shards': 1, 'active_shards': 1, 'relocating_shards': 0, 'initializing_shards': 0, 'unassigned_shards': 0, 'unassigned_primary_shards': 0, 'delayed_unassigned_shards': 0, 'number_of_pending_tasks': 0, 'number_of_in_flight_fetch': 0, 'task_max_waiting_in_queue_millis': 0, 'active_shards_percent_as_number': 100.0}\n",
      "Cluster info: {'name': '45c97701ffbf', 'cluster_name': 'docker-cluster', 'cluster_uuid': 'VkLCtS6fSHmzOmz3aTAzeA', 'version': {'number': '8.17.6', 'build_flavor': 'default', 'build_type': 'docker', 'build_hash': 'dbcbbbd0bc4924cfeb28929dc05d82d662c527b7', 'build_date': '2025-04-30T14:07:12.231372970Z', 'build_snapshot': False, 'lucene_version': '9.12.0', 'minimum_wire_compatibility_version': '7.17.0', 'minimum_index_compatibility_version': '7.0.0'}, 'tagline': 'You Know, for Search'}\n",
      "Nodes info: {'_nodes': {'total': 1, 'successful': 1, 'failed': 0}, 'cluster_name': 'docker-cluster', 'nodes': {'1pxQIGvlS4OwJLjr8IXRfw': {'name': '45c97701ffbf', 'transport_address': '172.17.0.2:9300', 'host': '172.17.0.2', 'ip': '172.17.0.2', 'version': '8.17.6', 'transport_version': 8797006, 'index_version': 8521000, 'component_versions': {'transform_config_version': 10000099, 'api_key_version': 8150099, 'ml_config_version': 12000099}, 'build_flavor': 'default', 'build_type': 'docker', 'build_hash': 'dbcbbbd0bc4924cfeb28929dc05d82d662c527b7', 'total_indexing_buffer': 414816665, 'roles': ['data', 'data_cold', 'data_content', 'data_frozen', 'data_hot', 'data_warm', 'ingest', 'master', 'ml', 'remote_cluster_client', 'transform'], 'attributes': {'ml.allocated_processors': '16', 'ml.allocated_processors_double': '16.0', 'ml.max_jvm_size': '4148166656', 'ml.config_version': '12.0.0', 'xpack.installed': 'true', 'transform.config_version': '10.0.0', 'ml.machine_memory': '8292356096'}, 'settings': {'cluster': {'name': 'docker-cluster', 'election': {'strategy': 'supports_voting_only'}}, 'node': {'attr': {'transform': {'config_version': '10.0.0'}, 'xpack': {'installed': 'true'}, 'ml': {'max_jvm_size': '4148166656', 'allocated_processors': '16', 'machine_memory': '8292356096', 'config_version': '12.0.0', 'allocated_processors_double': '16.0'}}, 'name': '45c97701ffbf'}, 'path': {'logs': '/usr/share/elasticsearch/logs', 'home': '/usr/share/elasticsearch'}, 'discovery': {'type': 'single-node'}, 'http': {'type': {'default': 'netty4'}}, 'transport': {'type': {'default': 'netty4'}}, 'xpack': {'security': {'enabled': 'false'}}, 'network': {'host': '0.0.0.0'}}, 'os': {'refresh_interval_in_millis': 1000, 'name': 'Linux', 'pretty_name': 'Ubuntu 20.04.6 LTS', 'arch': 'amd64', 'version': '6.6.87.1-microsoft-standard-WSL2', 'available_processors': 16, 'allocated_processors': 16}, 'process': {'refresh_interval_in_millis': 1000, 'id': 77, 'mlockall': False}, 'jvm': {'pid': 77, 'version': '23', 'vm_name': 'OpenJDK 64-Bit Server VM', 'vm_version': '23+37-2369', 'vm_vendor': 'Oracle Corporation', 'using_bundled_jdk': True, 'start_time_in_millis': 1749414269815, 'mem': {'heap_init_in_bytes': 4148166656, 'heap_max_in_bytes': 4148166656, 'non_heap_init_in_bytes': 7667712, 'non_heap_max_in_bytes': 0, 'direct_max_in_bytes': 0}, 'gc_collectors': ['G1 Young Generation', 'G1 Concurrent GC', 'G1 Old Generation'], 'memory_pools': [\"CodeHeap 'non-nmethods'\", 'Metaspace', \"CodeHeap 'profiled nmethods'\", 'Compressed Class Space', 'G1 Eden Space', 'G1 Old Gen', 'G1 Survivor Space', \"CodeHeap 'non-profiled nmethods'\"], 'using_compressed_ordinary_object_pointers': 'true', 'input_arguments': ['-Des.networkaddress.cache.ttl=60', '-Des.networkaddress.cache.negative.ttl=10', '-XX:+AlwaysPreTouch', '-Xss1m', '-Djava.awt.headless=true', '-Dfile.encoding=UTF-8', '-Djna.nosys=true', '-XX:-OmitStackTraceInFastThrow', '-Dio.netty.noUnsafe=true', '-Dio.netty.noKeySetOptimization=true', '-Dio.netty.recycler.maxCapacityPerThread=0', '-Dlog4j.shutdownHookEnabled=false', '-Dlog4j2.disable.jmx=true', '-Dlog4j2.formatMsgNoLookups=true', '-Djava.locale.providers=CLDR', '-Des.distribution.type=docker', '--enable-native-access=org.elasticsearch.nativeaccess,org.apache.lucene.core', '-Des.cgroups.hierarchy.override=/', '-XX:ReplayDataFile=logs/replay_pid%p.log', '-Djava.security.manager=allow', '-XX:+UseG1GC', '-Djava.io.tmpdir=/tmp/elasticsearch-5292659526314151090', '--add-modules=jdk.incubator.vector', '-XX:CompileCommand=dontinline,java/lang/invoke/MethodHandle.setAsTypeCache', '-XX:CompileCommand=dontinline,java/lang/invoke/MethodHandle.asTypeUncached', '-XX:+HeapDumpOnOutOfMemoryError', '-XX:+ExitOnOutOfMemoryError', '-XX:HeapDumpPath=data', '-XX:ErrorFile=logs/hs_err_pid%p.log', '-Xlog:gc*,gc+age=trace,safepoint:file=logs/gc.log:utctime,level,pid,tags:filecount=32,filesize=64m', '-Xms3954m', '-Xmx3954m', '-XX:MaxDirectMemorySize=2073034752', '-XX:G1HeapRegionSize=4m', '-XX:InitiatingHeapOccupancyPercent=30', '-XX:G1ReservePercent=15', '--module-path=/usr/share/elasticsearch/lib', '--add-modules=jdk.net', '--add-modules=ALL-MODULE-PATH', '-Djdk.module.main=org.elasticsearch.server']}, 'thread_pool': {'force_merge': {'type': 'fixed', 'size': 2, 'queue_size': -1}, 'search_coordination': {'type': 'fixed', 'size': 8, 'queue_size': 1000}, 'ml_datafeed': {'type': 'scaling', 'core': 1, 'max': 512, 'keep_alive': '1m', 'queue_size': -1}, 'searchable_snapshots_cache_fetch_async': {'type': 'scaling', 'core': 0, 'max': 48, 'keep_alive': '30s', 'queue_size': -1}, 'snapshot_meta': {'type': 'scaling', 'core': 1, 'max': 48, 'keep_alive': '30s', 'queue_size': -1}, 'fetch_shard_started': {'type': 'scaling', 'core': 1, 'max': 32, 'keep_alive': '5m', 'queue_size': -1}, 'model_download': {'type': 'fixed', 'size': 5, 'queue_size': -1}, 'esql_worker': {'type': 'fixed', 'size': 25, 'queue_size': 1000}, 'rollup_indexing': {'type': 'fixed', 'size': 1, 'queue_size': -1}, 'search': {'type': 'fixed', 'size': 25, 'queue_size': 1000}, 'cluster_coordination': {'type': 'fixed', 'size': 1, 'queue_size': -1}, 'ccr': {'type': 'fixed', 'size': 32, 'queue_size': 100}, 'inference_utility': {'type': 'scaling', 'core': 0, 'max': 10, 'keep_alive': '10m', 'queue_size': -1}, 'flush': {'type': 'scaling', 'core': 1, 'max': 5, 'keep_alive': '5m', 'queue_size': -1}, 'fetch_shard_store': {'type': 'scaling', 'core': 1, 'max': 32, 'keep_alive': '5m', 'queue_size': -1}, 'ml_utility': {'type': 'scaling', 'core': 1, 'max': 2048, 'keep_alive': '10m', 'queue_size': -1}, 'get': {'type': 'fixed', 'size': 25, 'queue_size': 1000}, 'system_read': {'type': 'fixed', 'size': 5, 'queue_size': 2000}, 'system_critical_read': {'type': 'fixed', 'size': 5, 'queue_size': 2000}, 'ml_native_inference_comms': {'type': 'scaling', 'core': 3, 'max': 348, 'keep_alive': '1m', 'queue_size': -1}, 'write': {'type': 'fixed', 'size': 16, 'queue_size': 10000}, 'watcher': {'type': 'fixed', 'size': 50, 'queue_size': 1000}, 'system_critical_write': {'type': 'fixed', 'size': 5, 'queue_size': 1500}, 'refresh': {'type': 'scaling', 'core': 1, 'max': 8, 'keep_alive': '5m', 'queue_size': -1}, 'repository_azure': {'type': 'scaling', 'core': 0, 'max': 5, 'keep_alive': '30s', 'queue_size': -1}, 'system_write': {'type': 'fixed', 'size': 5, 'queue_size': 1000}, 'generic': {'type': 'scaling', 'core': 4, 'max': 128, 'keep_alive': '30s', 'queue_size': -1}, 'warmer': {'type': 'scaling', 'core': 1, 'max': 5, 'keep_alive': '5m', 'queue_size': -1}, 'auto_complete': {'type': 'fixed', 'size': 4, 'queue_size': 100}, 'azure_event_loop': {'type': 'scaling', 'core': 0, 'max': 1, 'keep_alive': '30s', 'queue_size': -1}, 'profiling': {'type': 'scaling', 'core': 0, 'max': 1, 'keep_alive': '30m', 'queue_size': -1}, 'management': {'type': 'scaling', 'core': 1, 'max': 5, 'keep_alive': '5m', 'queue_size': -1}, 'analyze': {'type': 'fixed', 'size': 1, 'queue_size': 16}, 'searchable_snapshots_cache_prewarming': {'type': 'scaling', 'core': 0, 'max': 16, 'keep_alive': '30s', 'queue_size': -1}, 'ml_job_comms': {'type': 'scaling', 'core': 4, 'max': 2048, 'keep_alive': '1m', 'queue_size': -1}, 'downsample_indexing': {'type': 'fixed', 'size': 2, 'queue_size': 256}, 'snapshot': {'type': 'scaling', 'core': 1, 'max': 10, 'keep_alive': '5m', 'queue_size': -1}, 'search_throttled': {'type': 'fixed', 'size': 1, 'queue_size': 100}}, 'transport': {'bound_address': ['[::]:9300'], 'publish_address': '172.17.0.2:9300', 'profiles': {}}, 'http': {'bound_address': ['[::]:9200'], 'publish_address': '172.17.0.2:9200', 'max_content_length_in_bytes': 104857600}, 'plugins': [], 'modules': [{'name': 'aggregations', 'version': '8.17.6', 'elasticsearch_version': '8.17.6', 'java_version': '17', 'description': 'Adds \"built in\" aggregations to Elasticsearch.', 'classname': 'org.elasticsearch.aggregations.AggregationsPlugin', 'extended_plugins': ['lang-painless'], 'has_native_controller': False, 'licensed': False}, {'name': 'analysis-common', 'version': '8.17.6', 'elasticsearch_version': '8.17.6', 'java_version': '17', 'description': 'Adds \"built in\" analyzers to Elasticsearch.', 'classname': 'org.elasticsearch.analysis.common.CommonAnalysisPlugin', 'extended_plugins': ['lang-painless'], 'has_native_controller': False, 'licensed': False}, {'name': 'apm', 'version': '8.17.6', 'elasticsearch_version': '8.17.6', 'java_version': '17', 'description': 'Provides APM integration for Elasticsearch', 'classname': 'org.elasticsearch.telemetry.apm.APM', 'extended_plugins': [], 'has_native_controller': False, 'licensed': False}, {'name': 'blob-cache', 'version': '8.17.6', 'elasticsearch_version': '8.17.6', 'java_version': '17', 'description': 'Provides a blob store cache', 'classname': 'org.elasticsearch.blobcache.BlobCachePlugin', 'extended_plugins': [], 'has_native_controller': False, 'licensed': False}, {'name': 'constant-keyword', 'version': '8.17.6', 'elasticsearch_version': '8.17.6', 'java_version': '17', 'description': 'Module for the constant-keyword field type, which is a specialization of keyword for the case when all documents have the same value.', 'classname': 'org.elasticsearch.xpack.constantkeyword.ConstantKeywordMapperPlugin', 'extended_plugins': ['x-pack-core', 'lang-painless'], 'has_native_controller': False, 'licensed': False}, {'name': 'counted-keyword', 'version': '8.17.6', 'elasticsearch_version': '8.17.6', 'java_version': '17', 'description': 'Module for the counted-keyword field type, which allows to consider duplicates in an array of values of that type.', 'classname': 'org.elasticsearch.xpack.countedkeyword.CountedKeywordMapperPlugin', 'extended_plugins': ['x-pack-core'], 'has_native_controller': False, 'licensed': False}, {'name': 'data-streams', 'version': '8.17.6', 'elasticsearch_version': '8.17.6', 'java_version': '17', 'description': 'Elasticsearch Expanded Pack Plugin - Data Streams', 'classname': 'org.elasticsearch.datastreams.DataStreamsPlugin', 'extended_plugins': [], 'has_native_controller': False, 'licensed': False}, {'name': 'dot-prefix-validation', 'version': '8.17.6', 'elasticsearch_version': '8.17.6', 'java_version': '17', 'description': 'Validation for dot-prefixed indices for non-operator users', 'classname': 'org.elasticsearch.validation.DotPrefixValidationPlugin', 'extended_plugins': [], 'has_native_controller': False, 'licensed': False}, {'name': 'frozen-indices', 'version': '8.17.6', 'elasticsearch_version': '8.17.6', 'java_version': '17', 'description': 'A plugin for the frozen indices functionality', 'classname': 'org.elasticsearch.xpack.frozen.FrozenIndices', 'extended_plugins': ['x-pack-core'], 'has_native_controller': False, 'licensed': False}, {'name': 'health-shards-availability', 'version': '8.17.6', 'elasticsearch_version': '8.17.6', 'java_version': '17', 'description': 'Health report API extension providing the shards_availability output', 'classname': 'org.elasticsearch.health.plugin.ShardsAvailabilityPlugin', 'extended_plugins': [], 'has_native_controller': False, 'licensed': False}, {'name': 'ingest-attachment', 'version': '8.17.6', 'elasticsearch_version': '8.17.6', 'java_version': '17', 'description': 'Ingest processor that uses Apache Tika to extract contents', 'classname': 'org.elasticsearch.ingest.attachment.IngestAttachmentPlugin', 'extended_plugins': [], 'has_native_controller': False, 'licensed': False}, {'name': 'ingest-common', 'version': '8.17.6', 'elasticsearch_version': '8.17.6', 'java_version': '17', 'description': 'Module for ingest processors that do not require additional security permissions or have large dependencies and resources', 'classname': 'org.elasticsearch.ingest.common.IngestCommonPlugin', 'extended_plugins': ['lang-painless'], 'has_native_controller': False, 'licensed': False}, {'name': 'ingest-geoip', 'version': '8.17.6', 'elasticsearch_version': '8.17.6', 'java_version': '17', 'description': 'Ingest processor that uses lookup geo data based on IP addresses using the MaxMind geo database', 'classname': 'org.elasticsearch.ingest.geoip.IngestGeoIpPlugin', 'extended_plugins': [], 'has_native_controller': False, 'licensed': False}, {'name': 'ingest-user-agent', 'version': '8.17.6', 'elasticsearch_version': '8.17.6', 'java_version': '17', 'description': 'Ingest processor that extracts information from a user agent', 'classname': 'org.elasticsearch.ingest.useragent.IngestUserAgentPlugin', 'extended_plugins': [], 'has_native_controller': False, 'licensed': False}, {'name': 'kibana', 'version': '8.17.6', 'elasticsearch_version': '8.17.6', 'java_version': '17', 'description': 'Plugin exposing APIs for Kibana system indices', 'classname': 'org.elasticsearch.kibana.KibanaPlugin', 'extended_plugins': [], 'has_native_controller': False, 'licensed': False}, {'name': 'lang-expression', 'version': '8.17.6', 'elasticsearch_version': '8.17.6', 'java_version': '17', 'description': 'Lucene expressions integration for Elasticsearch', 'classname': 'org.elasticsearch.script.expression.ExpressionPlugin', 'extended_plugins': [], 'has_native_controller': False, 'licensed': False}, {'name': 'lang-mustache', 'version': '8.17.6', 'elasticsearch_version': '8.17.6', 'java_version': '17', 'description': 'Mustache scripting integration for Elasticsearch', 'classname': 'org.elasticsearch.script.mustache.MustachePlugin', 'extended_plugins': [], 'has_native_controller': False, 'licensed': False}, {'name': 'lang-painless', 'version': '8.17.6', 'elasticsearch_version': '8.17.6', 'java_version': '17', 'description': 'An easy, safe and fast scripting language for Elasticsearch', 'classname': 'org.elasticsearch.painless.PainlessPlugin', 'extended_plugins': [], 'has_native_controller': False, 'licensed': False}, {'name': 'legacy-geo', 'version': '8.17.6', 'elasticsearch_version': '8.17.6', 'java_version': '17', 'description': 'Placeholder plugin for geospatial features in ES', 'classname': 'org.elasticsearch.legacygeo.LegacyGeoPlugin', 'extended_plugins': [], 'has_native_controller': False, 'licensed': False}, {'name': 'logsdb', 'version': '8.17.6', 'elasticsearch_version': '8.17.6', 'java_version': '17', 'description': 'A plugin for logsdb related functionality', 'classname': 'org.elasticsearch.xpack.logsdb.LogsDBPlugin', 'extended_plugins': ['x-pack-core'], 'has_native_controller': False, 'licensed': False}, {'name': 'mapper-extras', 'version': '8.17.6', 'elasticsearch_version': '8.17.6', 'java_version': '17', 'description': 'Adds advanced field mappers', 'classname': 'org.elasticsearch.index.mapper.extras.MapperExtrasPlugin', 'extended_plugins': [], 'has_native_controller': False, 'licensed': False}, {'name': 'mapper-version', 'version': '8.17.6', 'elasticsearch_version': '8.17.6', 'java_version': '17', 'description': 'A plugin for a field type to store software versions', 'classname': 'org.elasticsearch.xpack.versionfield.VersionFieldPlugin', 'extended_plugins': ['x-pack-core', 'lang-painless'], 'has_native_controller': False, 'licensed': False}, {'name': 'ml-package-loader', 'version': '8.17.6', 'elasticsearch_version': '8.17.6', 'java_version': '17', 'description': 'Loader for prepackaged Machine Learning Models from Elastic', 'classname': 'org.elasticsearch.xpack.ml.packageloader.MachineLearningPackageLoader', 'extended_plugins': ['x-pack-core'], 'has_native_controller': False, 'licensed': False}, {'name': 'old-lucene-versions', 'version': '8.17.6', 'elasticsearch_version': '8.17.6', 'java_version': '17', 'description': 'A plugin for accessing older Lucene indices', 'classname': 'org.elasticsearch.xpack.lucene.bwc.OldLuceneVersions', 'extended_plugins': ['x-pack-core'], 'has_native_controller': False, 'licensed': False}, {'name': 'parent-join', 'version': '8.17.6', 'elasticsearch_version': '8.17.6', 'java_version': '17', 'description': 'This module adds the support parent-child queries and aggregations', 'classname': 'org.elasticsearch.join.ParentJoinPlugin', 'extended_plugins': [], 'has_native_controller': False, 'licensed': False}, {'name': 'percolator', 'version': '8.17.6', 'elasticsearch_version': '8.17.6', 'java_version': '17', 'description': 'Percolator module adds capability to index queries and query these queries by specifying documents', 'classname': 'org.elasticsearch.percolator.PercolatorPlugin', 'extended_plugins': [], 'has_native_controller': False, 'licensed': False}, {'name': 'rank-eval', 'version': '8.17.6', 'elasticsearch_version': '8.17.6', 'java_version': '17', 'description': 'The Rank Eval module adds APIs to evaluate ranking quality.', 'classname': 'org.elasticsearch.index.rankeval.RankEvalPlugin', 'extended_plugins': [], 'has_native_controller': False, 'licensed': False}, {'name': 'rank-rrf', 'version': '8.17.6', 'elasticsearch_version': '8.17.6', 'java_version': '17', 'description': 'Reciprocal rank fusion in search.', 'classname': 'org.elasticsearch.xpack.rank.rrf.RRFRankPlugin', 'extended_plugins': ['x-pack-core'], 'has_native_controller': False, 'licensed': False}, {'name': 'reindex', 'version': '8.17.6', 'elasticsearch_version': '8.17.6', 'java_version': '17', 'description': 'The Reindex module adds APIs to reindex from one index to another or update documents in place.', 'classname': 'org.elasticsearch.reindex.ReindexPlugin', 'extended_plugins': [], 'has_native_controller': False, 'licensed': False}, {'name': 'repositories-metering-api', 'version': '8.17.6', 'elasticsearch_version': '8.17.6', 'java_version': '17', 'description': 'Repositories metering API', 'classname': 'org.elasticsearch.xpack.repositories.metering.RepositoriesMeteringPlugin', 'extended_plugins': ['x-pack-core'], 'has_native_controller': False, 'licensed': False}, {'name': 'repository-azure', 'version': '8.17.6', 'elasticsearch_version': '8.17.6', 'java_version': '17', 'description': 'The Azure Repository plugin adds support for Azure storage repositories.', 'classname': 'org.elasticsearch.repositories.azure.AzureRepositoryPlugin', 'extended_plugins': [], 'has_native_controller': False, 'licensed': False}, {'name': 'repository-gcs', 'version': '8.17.6', 'elasticsearch_version': '8.17.6', 'java_version': '17', 'description': 'The GCS repository plugin adds Google Cloud Storage support for repositories.', 'classname': 'org.elasticsearch.repositories.gcs.GoogleCloudStoragePlugin', 'extended_plugins': [], 'has_native_controller': False, 'licensed': False}, {'name': 'repository-s3', 'version': '8.17.6', 'elasticsearch_version': '8.17.6', 'java_version': '17', 'description': 'The S3 repository plugin adds S3 repositories', 'classname': 'org.elasticsearch.repositories.s3.S3RepositoryPlugin', 'extended_plugins': [], 'has_native_controller': False, 'licensed': False}, {'name': 'repository-url', 'version': '8.17.6', 'elasticsearch_version': '8.17.6', 'java_version': '17', 'description': 'Module for URL repository', 'classname': 'org.elasticsearch.plugin.repository.url.URLRepositoryPlugin', 'extended_plugins': [], 'has_native_controller': False, 'licensed': False}, {'name': 'rest-root', 'version': '8.17.6', 'elasticsearch_version': '8.17.6', 'java_version': '17', 'description': 'Adds HEAD and GET / endpoint to Elasticsearch', 'classname': 'org.elasticsearch.rest.root.MainRestPlugin', 'extended_plugins': [], 'has_native_controller': False, 'licensed': False}, {'name': 'runtime-fields-common', 'version': '8.17.6', 'elasticsearch_version': '8.17.6', 'java_version': '17', 'description': 'Module for runtime fields features and extensions that have large dependencies', 'classname': 'org.elasticsearch.runtimefields.RuntimeFieldsCommonPlugin', 'extended_plugins': ['lang-painless'], 'has_native_controller': False, 'licensed': False}, {'name': 'search-business-rules', 'version': '8.17.6', 'elasticsearch_version': '8.17.6', 'java_version': '17', 'description': 'A plugin for applying business rules to search result rankings', 'classname': 'org.elasticsearch.xpack.searchbusinessrules.SearchBusinessRules', 'extended_plugins': ['x-pack-core'], 'has_native_controller': False, 'licensed': False}, {'name': 'searchable-snapshots', 'version': '8.17.6', 'elasticsearch_version': '8.17.6', 'java_version': '17', 'description': 'A plugin for the searchable snapshots functionality', 'classname': 'org.elasticsearch.xpack.searchablesnapshots.SearchableSnapshots', 'extended_plugins': ['x-pack-core', 'blob-cache'], 'has_native_controller': False, 'licensed': False}, {'name': 'snapshot-based-recoveries', 'version': '8.17.6', 'elasticsearch_version': '8.17.6', 'java_version': '17', 'description': 'A plugin that enables snapshot based recoveries', 'classname': 'org.elasticsearch.xpack.snapshotbasedrecoveries.SnapshotBasedRecoveriesPlugin', 'extended_plugins': ['x-pack-core'], 'has_native_controller': False, 'licensed': False}, {'name': 'snapshot-repo-test-kit', 'version': '8.17.6', 'elasticsearch_version': '8.17.6', 'java_version': '17', 'description': 'A plugin for a test kit for snapshot repositories', 'classname': 'org.elasticsearch.repositories.blobstore.testkit.SnapshotRepositoryTestKit', 'extended_plugins': ['x-pack-core'], 'has_native_controller': False, 'licensed': False}, {'name': 'spatial', 'version': '8.17.6', 'elasticsearch_version': '8.17.6', 'java_version': '17', 'description': 'A plugin for Basic Spatial features', 'classname': 'org.elasticsearch.xpack.spatial.SpatialPlugin', 'extended_plugins': ['x-pack-core', 'legacy-geo', 'lang-painless'], 'has_native_controller': False, 'licensed': False}, {'name': 'transform', 'version': '8.17.6', 'elasticsearch_version': '8.17.6', 'java_version': '17', 'description': 'A plugin to transform data', 'classname': 'org.elasticsearch.xpack.transform.Transform', 'extended_plugins': ['x-pack-core'], 'has_native_controller': False, 'licensed': False}, {'name': 'transport-netty4', 'version': '8.17.6', 'elasticsearch_version': '8.17.6', 'java_version': '17', 'description': 'Netty 4 based transport implementation', 'classname': 'org.elasticsearch.transport.netty4.Netty4Plugin', 'extended_plugins': [], 'has_native_controller': False, 'licensed': False}, {'name': 'unsigned-long', 'version': '8.17.6', 'elasticsearch_version': '8.17.6', 'java_version': '17', 'description': 'Module for the unsigned long field type', 'classname': 'org.elasticsearch.xpack.unsignedlong.UnsignedLongMapperPlugin', 'extended_plugins': ['x-pack-core', 'lang-painless'], 'has_native_controller': False, 'licensed': False}, {'name': 'vector-tile', 'version': '8.17.6', 'elasticsearch_version': '8.17.6', 'java_version': '17', 'description': 'A plugin for mapbox vector tile features', 'classname': 'org.elasticsearch.xpack.vectortile.VectorTilePlugin', 'extended_plugins': ['spatial'], 'has_native_controller': False, 'licensed': False}, {'name': 'wildcard', 'version': '8.17.6', 'elasticsearch_version': '8.17.6', 'java_version': '17', 'description': 'A plugin for a keyword field type with efficient wildcard search', 'classname': 'org.elasticsearch.xpack.wildcard.Wildcard', 'extended_plugins': ['x-pack-core', 'lang-painless'], 'has_native_controller': False, 'licensed': False}, {'name': 'x-pack-aggregate-metric', 'version': '8.17.6', 'elasticsearch_version': '8.17.6', 'java_version': '17', 'description': 'Module for the aggregate_metric_double field type, which allows pre-aggregated fields to be stored as a single field', 'classname': 'org.elasticsearch.xpack.aggregatemetric.AggregateMetricMapperPlugin', 'extended_plugins': ['x-pack-core'], 'has_native_controller': False, 'licensed': False}, {'name': 'x-pack-analytics', 'version': '8.17.6', 'elasticsearch_version': '8.17.6', 'java_version': '17', 'description': 'Elasticsearch Expanded Pack Plugin - Analytics', 'classname': 'org.elasticsearch.xpack.analytics.AnalyticsPlugin', 'extended_plugins': ['x-pack-core'], 'has_native_controller': False, 'licensed': False}, {'name': 'x-pack-apm-data', 'version': '8.17.6', 'elasticsearch_version': '8.17.6', 'java_version': '17', 'description': 'The APM plugin defines APM data streams and ingest pipelines.', 'classname': 'org.elasticsearch.xpack.apmdata.APMPlugin', 'extended_plugins': ['x-pack-core'], 'has_native_controller': False, 'licensed': False}, {'name': 'x-pack-async', 'version': '8.17.6', 'elasticsearch_version': '8.17.6', 'java_version': '17', 'description': 'A module which handles common async operations', 'classname': 'org.elasticsearch.xpack.async.AsyncResultsIndexPlugin', 'extended_plugins': ['x-pack-core'], 'has_native_controller': False, 'licensed': False}, {'name': 'x-pack-async-search', 'version': '8.17.6', 'elasticsearch_version': '8.17.6', 'java_version': '17', 'description': 'A module which allows to track the progress of a search asynchronously.', 'classname': 'org.elasticsearch.xpack.search.AsyncSearch', 'extended_plugins': ['x-pack-core'], 'has_native_controller': False, 'licensed': False}, {'name': 'x-pack-autoscaling', 'version': '8.17.6', 'elasticsearch_version': '8.17.6', 'java_version': '17', 'description': 'Elasticsearch Expanded Pack Plugin - Autoscaling', 'classname': 'org.elasticsearch.xpack.autoscaling.Autoscaling', 'extended_plugins': ['x-pack-core'], 'has_native_controller': False, 'licensed': False}, {'name': 'x-pack-ccr', 'version': '8.17.6', 'elasticsearch_version': '8.17.6', 'java_version': '17', 'description': 'Elasticsearch Expanded Pack Plugin - CCR', 'classname': 'org.elasticsearch.xpack.ccr.Ccr', 'extended_plugins': ['x-pack-core'], 'has_native_controller': False, 'licensed': False}, {'name': 'x-pack-core', 'version': '8.17.6', 'elasticsearch_version': '8.17.6', 'java_version': '17', 'description': 'Elasticsearch Expanded Pack Plugin - Core', 'classname': 'org.elasticsearch.xpack.core.XPackPlugin', 'extended_plugins': [], 'has_native_controller': False, 'licensed': False}, {'name': 'x-pack-deprecation', 'version': '8.17.6', 'elasticsearch_version': '8.17.6', 'java_version': '17', 'description': 'Elasticsearch Expanded Pack Plugin - Deprecation', 'classname': 'org.elasticsearch.xpack.deprecation.Deprecation', 'extended_plugins': ['x-pack-core'], 'has_native_controller': False, 'licensed': False}, {'name': 'x-pack-downsample', 'version': '8.17.6', 'elasticsearch_version': '8.17.6', 'java_version': '17', 'description': 'Elasticsearch Expanded Pack Plugin - Downsample', 'classname': 'org.elasticsearch.xpack.downsample.Downsample', 'extended_plugins': ['x-pack-aggregate-metric'], 'has_native_controller': False, 'licensed': False}, {'name': 'x-pack-enrich', 'version': '8.17.6', 'elasticsearch_version': '8.17.6', 'java_version': '17', 'description': 'Elasticsearch Expanded Pack Plugin - Enrich', 'classname': 'org.elasticsearch.xpack.enrich.EnrichPlugin', 'extended_plugins': ['x-pack-core'], 'has_native_controller': False, 'licensed': False}, {'name': 'x-pack-ent-search', 'version': '8.17.6', 'elasticsearch_version': '8.17.6', 'java_version': '17', 'description': 'Elasticsearch Expanded Pack Plugin - Enterprise Search', 'classname': 'org.elasticsearch.xpack.application.EnterpriseSearch', 'extended_plugins': ['x-pack-core'], 'has_native_controller': False, 'licensed': False}, {'name': 'x-pack-eql', 'version': '8.17.6', 'elasticsearch_version': '8.17.6', 'java_version': '17', 'description': 'The Elasticsearch plugin that powers EQL for Elasticsearch', 'classname': 'org.elasticsearch.xpack.eql.plugin.EqlPlugin', 'extended_plugins': ['x-pack-ql', 'lang-painless'], 'has_native_controller': False, 'licensed': False}, {'name': 'x-pack-esql', 'version': '8.17.6', 'elasticsearch_version': '8.17.6', 'java_version': '17', 'description': 'The plugin that powers ESQL for Elasticsearch', 'classname': 'org.elasticsearch.xpack.esql.plugin.EsqlPlugin', 'extended_plugins': ['x-pack-esql-core', 'lang-painless', 'x-pack-ml'], 'has_native_controller': False, 'licensed': False}, {'name': 'x-pack-esql-core', 'version': '8.17.6', 'elasticsearch_version': '8.17.6', 'java_version': '17', 'description': 'Elasticsearch infrastructure plugin for ESQL', 'classname': 'org.elasticsearch.xpack.esql.core.plugin.EsqlCorePlugin', 'extended_plugins': ['x-pack-core'], 'has_native_controller': False, 'licensed': False}, {'name': 'x-pack-fleet', 'version': '8.17.6', 'elasticsearch_version': '8.17.6', 'java_version': '17', 'description': 'Elasticsearch Expanded Pack Plugin - Plugin exposing APIs for Fleet system indices', 'classname': 'org.elasticsearch.xpack.fleet.Fleet', 'extended_plugins': ['x-pack-core'], 'has_native_controller': False, 'licensed': False}, {'name': 'x-pack-geoip-enterprise-downloader', 'version': '8.17.6', 'elasticsearch_version': '8.17.6', 'java_version': '17', 'description': 'Elasticsearch Expanded Pack Plugin - Geoip Enterprise Downloader', 'classname': 'org.elasticsearch.xpack.geoip.EnterpriseDownloaderPlugin', 'extended_plugins': ['x-pack-core'], 'has_native_controller': False, 'licensed': False}, {'name': 'x-pack-graph', 'version': '8.17.6', 'elasticsearch_version': '8.17.6', 'java_version': '17', 'description': 'Elasticsearch Expanded Pack Plugin - Graph', 'classname': 'org.elasticsearch.xpack.graph.Graph', 'extended_plugins': ['x-pack-core'], 'has_native_controller': False, 'licensed': False}, {'name': 'x-pack-identity-provider', 'version': '8.17.6', 'elasticsearch_version': '8.17.6', 'java_version': '17', 'description': 'Elasticsearch Expanded Pack Plugin - Identity Provider', 'classname': 'org.elasticsearch.xpack.idp.IdentityProviderPlugin', 'extended_plugins': ['x-pack-core'], 'has_native_controller': False, 'licensed': False}, {'name': 'x-pack-ilm', 'version': '8.17.6', 'elasticsearch_version': '8.17.6', 'java_version': '17', 'description': 'Elasticsearch Expanded Pack Plugin - Index Lifecycle Management', 'classname': 'org.elasticsearch.xpack.ilm.IndexLifecycle', 'extended_plugins': ['x-pack-core'], 'has_native_controller': False, 'licensed': False}, {'name': 'x-pack-inference', 'version': '8.17.6', 'elasticsearch_version': '8.17.6', 'java_version': '17', 'description': 'Configuration and evaluation of inference models', 'classname': 'org.elasticsearch.xpack.inference.InferencePlugin', 'extended_plugins': ['x-pack-core'], 'has_native_controller': False, 'licensed': False}, {'name': 'x-pack-kql', 'version': '8.17.6', 'elasticsearch_version': '8.17.6', 'java_version': '17', 'description': 'Elasticsearch Expanded Pack Plugin - KQL query', 'classname': 'org.elasticsearch.xpack.kql.KqlPlugin', 'extended_plugins': ['x-pack-core'], 'has_native_controller': False, 'licensed': False}, {'name': 'x-pack-logstash', 'version': '8.17.6', 'elasticsearch_version': '8.17.6', 'java_version': '17', 'description': 'Elasticsearch Expanded Pack Plugin - Logstash', 'classname': 'org.elasticsearch.xpack.logstash.Logstash', 'extended_plugins': ['x-pack-core'], 'has_native_controller': False, 'licensed': False}, {'name': 'x-pack-ml', 'version': '8.17.6', 'elasticsearch_version': '8.17.6', 'java_version': '17', 'description': 'Elasticsearch Expanded Pack Plugin - Machine Learning', 'classname': 'org.elasticsearch.xpack.ml.MachineLearning', 'extended_plugins': ['x-pack-autoscaling', 'lang-painless'], 'has_native_controller': True, 'licensed': False}, {'name': 'x-pack-monitoring', 'version': '8.17.6', 'elasticsearch_version': '8.17.6', 'java_version': '17', 'description': 'Elasticsearch Expanded Pack Plugin - Monitoring', 'classname': 'org.elasticsearch.xpack.monitoring.Monitoring', 'extended_plugins': ['x-pack-core'], 'has_native_controller': False, 'licensed': False}, {'name': 'x-pack-otel-data', 'version': '8.17.6', 'elasticsearch_version': '8.17.6', 'java_version': '17', 'description': 'The OTEL plugin defines OTEL data streams and ingest pipelines.', 'classname': 'org.elasticsearch.xpack.oteldata.OTelPlugin', 'extended_plugins': ['x-pack-core'], 'has_native_controller': False, 'licensed': False}, {'name': 'x-pack-profiling', 'version': '8.17.6', 'elasticsearch_version': '8.17.6', 'java_version': '17', 'description': 'The profiling plugin adds support for retrieving data from Universal Profiling.', 'classname': 'org.elasticsearch.xpack.profiling.ProfilingPlugin', 'extended_plugins': ['x-pack-core'], 'has_native_controller': False, 'licensed': False}, {'name': 'x-pack-ql', 'version': '8.17.6', 'elasticsearch_version': '8.17.6', 'java_version': '17', 'description': 'Elasticsearch infrastructure plugin for EQL and SQL for Elasticsearch', 'classname': 'org.elasticsearch.xpack.ql.plugin.QlPlugin', 'extended_plugins': ['x-pack-core'], 'has_native_controller': False, 'licensed': False}, {'name': 'x-pack-redact', 'version': '8.17.6', 'elasticsearch_version': '8.17.6', 'java_version': '17', 'description': 'Elasticsearch Expanded Pack Plugin - Redact', 'classname': 'org.elasticsearch.xpack.redact.RedactPlugin', 'extended_plugins': ['x-pack-core'], 'has_native_controller': False, 'licensed': False}, {'name': 'x-pack-rollup', 'version': '8.17.6', 'elasticsearch_version': '8.17.6', 'java_version': '17', 'description': 'Elasticsearch Expanded Pack Plugin - Rollup', 'classname': 'org.elasticsearch.xpack.rollup.Rollup', 'extended_plugins': ['x-pack-core'], 'has_native_controller': False, 'licensed': False}, {'name': 'x-pack-security', 'version': '8.17.6', 'elasticsearch_version': '8.17.6', 'java_version': '17', 'description': 'Elasticsearch Expanded Pack Plugin - Security', 'classname': 'org.elasticsearch.xpack.security.Security', 'extended_plugins': ['x-pack-core'], 'has_native_controller': False, 'licensed': False}, {'name': 'x-pack-shutdown', 'version': '8.17.6', 'elasticsearch_version': '8.17.6', 'java_version': '17', 'description': 'Elasticsearch Expanded Pack Plugin - Shutdown', 'classname': 'org.elasticsearch.xpack.shutdown.ShutdownPlugin', 'extended_plugins': ['x-pack-core'], 'has_native_controller': False, 'licensed': False}, {'name': 'x-pack-slm', 'version': '8.17.6', 'elasticsearch_version': '8.17.6', 'java_version': '17', 'description': 'Elasticsearch Expanded Pack Plugin - Snapshot Lifecycle Management', 'classname': 'org.elasticsearch.xpack.slm.SnapshotLifecycle', 'extended_plugins': ['x-pack-core'], 'has_native_controller': False, 'licensed': False}, {'name': 'x-pack-sql', 'version': '8.17.6', 'elasticsearch_version': '8.17.6', 'java_version': '17', 'description': 'The Elasticsearch plugin that powers SQL for Elasticsearch', 'classname': 'org.elasticsearch.xpack.sql.plugin.SqlPlugin', 'extended_plugins': ['x-pack-ql', 'lang-painless'], 'has_native_controller': False, 'licensed': False}, {'name': 'x-pack-stack', 'version': '8.17.6', 'elasticsearch_version': '8.17.6', 'java_version': '17', 'description': 'Elasticsearch Expanded Pack Plugin - Stack', 'classname': 'org.elasticsearch.xpack.stack.StackPlugin', 'extended_plugins': ['x-pack-core'], 'has_native_controller': False, 'licensed': False}, {'name': 'x-pack-text-structure', 'version': '8.17.6', 'elasticsearch_version': '8.17.6', 'java_version': '17', 'description': 'Elasticsearch Expanded Pack Plugin - Text Structure', 'classname': 'org.elasticsearch.xpack.textstructure.TextStructurePlugin', 'extended_plugins': ['x-pack-core'], 'has_native_controller': False, 'licensed': False}, {'name': 'x-pack-voting-only-node', 'version': '8.17.6', 'elasticsearch_version': '8.17.6', 'java_version': '17', 'description': 'Elasticsearch Expanded Pack Plugin - Voting-only node', 'classname': 'org.elasticsearch.cluster.coordination.votingonly.VotingOnlyNodePlugin', 'extended_plugins': ['x-pack-core'], 'has_native_controller': False, 'licensed': False}, {'name': 'x-pack-watcher', 'version': '8.17.6', 'elasticsearch_version': '8.17.6', 'java_version': '17', 'description': 'Elasticsearch Expanded Pack Plugin - Watcher', 'classname': 'org.elasticsearch.xpack.watcher.Watcher', 'extended_plugins': ['x-pack-core', 'lang-painless'], 'has_native_controller': False, 'licensed': False}, {'name': 'x-pack-write-load-forecaster', 'version': '8.17.6', 'elasticsearch_version': '8.17.6', 'java_version': '17', 'description': 'x', 'classname': 'org.elasticsearch.xpack.writeloadforecaster.WriteLoadForecasterPlugin', 'extended_plugins': ['x-pack-core'], 'has_native_controller': False, 'licensed': False}], 'ingest': {'processors': [{'type': 'append'}, {'type': 'attachment'}, {'type': 'bytes'}, {'type': 'circle'}, {'type': 'community_id'}, {'type': 'convert'}, {'type': 'csv'}, {'type': 'date'}, {'type': 'date_index_name'}, {'type': 'dissect'}, {'type': 'dot_expander'}, {'type': 'drop'}, {'type': 'enrich'}, {'type': 'fail'}, {'type': 'fingerprint'}, {'type': 'foreach'}, {'type': 'geo_grid'}, {'type': 'geoip'}, {'type': 'grok'}, {'type': 'gsub'}, {'type': 'html_strip'}, {'type': 'inference'}, {'type': 'ip_location'}, {'type': 'join'}, {'type': 'json'}, {'type': 'kv'}, {'type': 'lowercase'}, {'type': 'network_direction'}, {'type': 'pipeline'}, {'type': 'redact'}, {'type': 'registered_domain'}, {'type': 'remove'}, {'type': 'rename'}, {'type': 'reroute'}, {'type': 'script'}, {'type': 'set'}, {'type': 'set_security_user'}, {'type': 'sort'}, {'type': 'split'}, {'type': 'terminate'}, {'type': 'trim'}, {'type': 'uppercase'}, {'type': 'uri_parts'}, {'type': 'urldecode'}, {'type': 'user_agent'}]}, 'aggregations': {'adjacency_matrix': {'types': ['other']}, 'auto_date_histogram': {'types': ['boolean', 'date', 'numeric']}, 'avg': {'types': ['aggregate_metric', 'boolean', 'counter', 'date', 'histogram', 'numeric']}, 'boxplot': {'types': ['counter', 'histogram', 'numeric']}, 'cardinality': {'types': ['boolean', 'counter', 'date', 'geopoint', 'geoshape', 'ip', 'keyword', 'numeric', 'range']}, 'cartesian_bounds': {'types': ['point', 'shape']}, 'cartesian_centroid': {'types': ['point', 'shape']}, 'categorize_text': {'types': ['other']}, 'children': {'types': ['other']}, 'composite': {'types': ['other']}, 'counted_terms': {'types': ['keyword']}, 'date_histogram': {'types': ['boolean', 'date', 'numeric', 'range']}, 'date_range': {'types': ['boolean', 'date', 'numeric']}, 'diversified_sampler': {'types': ['boolean', 'date', 'keyword', 'numeric']}, 'extended_stats': {'types': ['boolean', 'counter', 'date', 'numeric']}, 'filter': {'types': ['other']}, 'filters': {'types': ['other']}, 'frequent_item_sets': {'types': ['other']}, 'geo_bounds': {'types': ['geopoint', 'geoshape', 'position']}, 'geo_centroid': {'types': ['geopoint', 'geoshape', 'position']}, 'geo_distance': {'types': ['geopoint']}, 'geo_line': {'types': ['geopoint']}, 'geohash_grid': {'types': ['geopoint', 'geoshape']}, 'geohex_grid': {'types': ['geopoint', 'geoshape']}, 'geotile_grid': {'types': ['geopoint', 'geoshape']}, 'global': {'types': ['other']}, 'histogram': {'types': ['boolean', 'counter', 'date', 'histogram', 'numeric', 'range']}, 'ip_prefix': {'types': ['ip']}, 'ip_range': {'types': ['ip']}, 'matrix_stats': {'types': ['other']}, 'max': {'types': ['aggregate_metric', 'boolean', 'counter', 'date', 'histogram', 'numeric']}, 'median_absolute_deviation': {'types': ['counter', 'numeric']}, 'min': {'types': ['aggregate_metric', 'boolean', 'counter', 'date', 'histogram', 'numeric']}, 'missing': {'types': ['boolean', 'date', 'geopoint', 'ip', 'keyword', 'numeric', 'range']}, 'multi_terms': {'types': ['other']}, 'nested': {'types': ['other']}, 'parent': {'types': ['other']}, 'percentile_ranks': {'types': ['boolean', 'counter', 'date', 'histogram', 'numeric']}, 'percentiles': {'types': ['boolean', 'counter', 'date', 'histogram', 'numeric']}, 'random_sampler': {'types': ['other']}, 'range': {'types': ['boolean', 'counter', 'date', 'histogram', 'numeric']}, 'rare_terms': {'types': ['boolean', 'date', 'ip', 'keyword', 'numeric']}, 'rate': {'types': ['counter', 'histogram', 'numeric']}, 'reverse_nested': {'types': ['other']}, 'sampler': {'types': ['other']}, 'scripted_metric': {'types': ['other']}, 'significant_terms': {'types': ['boolean', 'date', 'ip', 'keyword', 'numeric']}, 'significant_text': {'types': ['other']}, 'stats': {'types': ['boolean', 'counter', 'date', 'numeric']}, 'string_stats': {'types': ['keyword']}, 'sum': {'types': ['aggregate_metric', 'boolean', 'counter', 'date', 'histogram', 'numeric']}, 't_test': {'types': ['numeric']}, 'terms': {'types': ['boolean', 'date', 'ip', 'keyword', 'numeric']}, 'time_series': {'types': ['other']}, 'top_hits': {'types': ['other']}, 'top_metrics': {'types': ['other']}, 'value_count': {'types': ['aggregate_metric', 'boolean', 'counter', 'date', 'geopoint', 'geoshape', 'histogram', 'ip', 'keyword', 'numeric', 'range']}, 'variable_width_histogram': {'types': ['counter', 'numeric']}, 'weighted_avg': {'types': ['numeric']}}}}}\n"
     ]
    }
   ],
   "source": [
    "from elasticsearch import Elasticsearch\n",
    "\n",
    "# Connect to Elasticsearch (adjust connection settings as needed)\n",
    "es = Elasticsearch(\"http://localhost:9200\")\n",
    "\n",
    "# Get cluster health\n",
    "health = es.cluster.health()\n",
    "print(\"Cluster health:\", health)\n",
    "\n",
    "# Get cluster information\n",
    "info = es.info()\n",
    "print(\"Cluster info:\", info)\n",
    "\n",
    "# Get nodes information\n",
    "nodes = es.nodes.info()\n",
    "print(\"Nodes info:\", nodes)"
   ]
  },
  {
   "cell_type": "markdown",
   "id": "f5428339",
   "metadata": {},
   "source": [
    "\"build_hash\" : \"dbcbbbd0bc4924cfeb28929dc05d82d662c527b7\","
   ]
  },
  {
   "cell_type": "code",
   "execution_count": 2,
   "id": "dea32f0a",
   "metadata": {},
   "outputs": [],
   "source": [
    "import requests \n",
    "\n",
    "docs_url = 'https://github.com/DataTalksClub/llm-zoomcamp/blob/main/01-intro/documents.json?raw=1'\n",
    "docs_response = requests.get(docs_url)\n",
    "documents_raw = docs_response.json()\n",
    "\n",
    "documents = []\n",
    "\n",
    "for course in documents_raw:\n",
    "    course_name = course['course']\n",
    "\n",
    "    for doc in course['documents']:\n",
    "        doc['course'] = course_name\n",
    "        documents.append(doc)"
   ]
  },
  {
   "cell_type": "code",
   "execution_count": 3,
   "id": "9a7b7b2d",
   "metadata": {},
   "outputs": [
    {
     "ename": "BadRequestError",
     "evalue": "BadRequestError(400, 'resource_already_exists_exception', 'index [course-questions/qy2GKEKZQ6CW3FBL8Z8oog] already exists')",
     "output_type": "error",
     "traceback": [
      "\u001b[31m---------------------------------------------------------------------------\u001b[39m",
      "\u001b[31mBadRequestError\u001b[39m                           Traceback (most recent call last)",
      "\u001b[36mCell\u001b[39m\u001b[36m \u001b[39m\u001b[32mIn[3]\u001b[39m\u001b[32m, line 18\u001b[39m\n\u001b[32m      1\u001b[39m index_settings = {\n\u001b[32m      2\u001b[39m     \u001b[33m\"\u001b[39m\u001b[33msettings\u001b[39m\u001b[33m\"\u001b[39m: {\n\u001b[32m      3\u001b[39m         \u001b[33m\"\u001b[39m\u001b[33mnumber_of_shards\u001b[39m\u001b[33m\"\u001b[39m: \u001b[32m1\u001b[39m,\n\u001b[32m   (...)\u001b[39m\u001b[32m     13\u001b[39m     }\n\u001b[32m     14\u001b[39m }\n\u001b[32m     16\u001b[39m index_name = \u001b[33m\"\u001b[39m\u001b[33mcourse-questions\u001b[39m\u001b[33m\"\u001b[39m\n\u001b[32m---> \u001b[39m\u001b[32m18\u001b[39m \u001b[43mes\u001b[49m\u001b[43m.\u001b[49m\u001b[43mindices\u001b[49m\u001b[43m.\u001b[49m\u001b[43mcreate\u001b[49m\u001b[43m(\u001b[49m\u001b[43mindex\u001b[49m\u001b[43m=\u001b[49m\u001b[43mindex_name\u001b[49m\u001b[43m,\u001b[49m\u001b[43m \u001b[49m\u001b[43mbody\u001b[49m\u001b[43m=\u001b[49m\u001b[43mindex_settings\u001b[49m\u001b[43m)\u001b[49m\n",
      "\u001b[36mFile \u001b[39m\u001b[32md:\\DataScience\\llmzoom2025\\llmzoom\\.venv\\Lib\\site-packages\\elasticsearch\\_sync\\client\\utils.py:455\u001b[39m, in \u001b[36m_rewrite_parameters.<locals>.wrapper.<locals>.wrapped\u001b[39m\u001b[34m(*args, **kwargs)\u001b[39m\n\u001b[32m    452\u001b[39m         \u001b[38;5;28;01mexcept\u001b[39;00m \u001b[38;5;167;01mKeyError\u001b[39;00m:\n\u001b[32m    453\u001b[39m             \u001b[38;5;28;01mpass\u001b[39;00m\n\u001b[32m--> \u001b[39m\u001b[32m455\u001b[39m \u001b[38;5;28;01mreturn\u001b[39;00m \u001b[43mapi\u001b[49m\u001b[43m(\u001b[49m\u001b[43m*\u001b[49m\u001b[43margs\u001b[49m\u001b[43m,\u001b[49m\u001b[43m \u001b[49m\u001b[43m*\u001b[49m\u001b[43m*\u001b[49m\u001b[43mkwargs\u001b[49m\u001b[43m)\u001b[49m\n",
      "\u001b[36mFile \u001b[39m\u001b[32md:\\DataScience\\llmzoom2025\\llmzoom\\.venv\\Lib\\site-packages\\elasticsearch\\_sync\\client\\indices.py:643\u001b[39m, in \u001b[36mIndicesClient.create\u001b[39m\u001b[34m(self, index, aliases, error_trace, filter_path, human, mappings, master_timeout, pretty, settings, timeout, wait_for_active_shards, body)\u001b[39m\n\u001b[32m    641\u001b[39m \u001b[38;5;28;01mif\u001b[39;00m __body \u001b[38;5;129;01mis\u001b[39;00m \u001b[38;5;129;01mnot\u001b[39;00m \u001b[38;5;28;01mNone\u001b[39;00m:\n\u001b[32m    642\u001b[39m     __headers[\u001b[33m\"\u001b[39m\u001b[33mcontent-type\u001b[39m\u001b[33m\"\u001b[39m] = \u001b[33m\"\u001b[39m\u001b[33mapplication/json\u001b[39m\u001b[33m\"\u001b[39m\n\u001b[32m--> \u001b[39m\u001b[32m643\u001b[39m \u001b[38;5;28;01mreturn\u001b[39;00m \u001b[38;5;28;43mself\u001b[39;49m\u001b[43m.\u001b[49m\u001b[43mperform_request\u001b[49m\u001b[43m(\u001b[49m\u001b[43m  \u001b[49m\u001b[38;5;66;43;03m# type: ignore[return-value]\u001b[39;49;00m\n\u001b[32m    644\u001b[39m \u001b[43m    \u001b[49m\u001b[33;43m\"\u001b[39;49m\u001b[33;43mPUT\u001b[39;49m\u001b[33;43m\"\u001b[39;49m\u001b[43m,\u001b[49m\n\u001b[32m    645\u001b[39m \u001b[43m    \u001b[49m\u001b[43m__path\u001b[49m\u001b[43m,\u001b[49m\n\u001b[32m    646\u001b[39m \u001b[43m    \u001b[49m\u001b[43mparams\u001b[49m\u001b[43m=\u001b[49m\u001b[43m__query\u001b[49m\u001b[43m,\u001b[49m\n\u001b[32m    647\u001b[39m \u001b[43m    \u001b[49m\u001b[43mheaders\u001b[49m\u001b[43m=\u001b[49m\u001b[43m__headers\u001b[49m\u001b[43m,\u001b[49m\n\u001b[32m    648\u001b[39m \u001b[43m    \u001b[49m\u001b[43mbody\u001b[49m\u001b[43m=\u001b[49m\u001b[43m__body\u001b[49m\u001b[43m,\u001b[49m\n\u001b[32m    649\u001b[39m \u001b[43m    \u001b[49m\u001b[43mendpoint_id\u001b[49m\u001b[43m=\u001b[49m\u001b[33;43m\"\u001b[39;49m\u001b[33;43mindices.create\u001b[39;49m\u001b[33;43m\"\u001b[39;49m\u001b[43m,\u001b[49m\n\u001b[32m    650\u001b[39m \u001b[43m    \u001b[49m\u001b[43mpath_parts\u001b[49m\u001b[43m=\u001b[49m\u001b[43m__path_parts\u001b[49m\u001b[43m,\u001b[49m\n\u001b[32m    651\u001b[39m \u001b[43m\u001b[49m\u001b[43m)\u001b[49m\n",
      "\u001b[36mFile \u001b[39m\u001b[32md:\\DataScience\\llmzoom2025\\llmzoom\\.venv\\Lib\\site-packages\\elasticsearch\\_sync\\client\\_base.py:423\u001b[39m, in \u001b[36mNamespacedClient.perform_request\u001b[39m\u001b[34m(self, method, path, params, headers, body, endpoint_id, path_parts)\u001b[39m\n\u001b[32m    410\u001b[39m \u001b[38;5;28;01mdef\u001b[39;00m\u001b[38;5;250m \u001b[39m\u001b[34mperform_request\u001b[39m(\n\u001b[32m    411\u001b[39m     \u001b[38;5;28mself\u001b[39m,\n\u001b[32m    412\u001b[39m     method: \u001b[38;5;28mstr\u001b[39m,\n\u001b[32m   (...)\u001b[39m\u001b[32m    421\u001b[39m     \u001b[38;5;66;03m# Use the internal clients .perform_request() implementation\u001b[39;00m\n\u001b[32m    422\u001b[39m     \u001b[38;5;66;03m# so we take advantage of their transport options.\u001b[39;00m\n\u001b[32m--> \u001b[39m\u001b[32m423\u001b[39m     \u001b[38;5;28;01mreturn\u001b[39;00m \u001b[38;5;28;43mself\u001b[39;49m\u001b[43m.\u001b[49m\u001b[43m_client\u001b[49m\u001b[43m.\u001b[49m\u001b[43mperform_request\u001b[49m\u001b[43m(\u001b[49m\n\u001b[32m    424\u001b[39m \u001b[43m        \u001b[49m\u001b[43mmethod\u001b[49m\u001b[43m,\u001b[49m\n\u001b[32m    425\u001b[39m \u001b[43m        \u001b[49m\u001b[43mpath\u001b[49m\u001b[43m,\u001b[49m\n\u001b[32m    426\u001b[39m \u001b[43m        \u001b[49m\u001b[43mparams\u001b[49m\u001b[43m=\u001b[49m\u001b[43mparams\u001b[49m\u001b[43m,\u001b[49m\n\u001b[32m    427\u001b[39m \u001b[43m        \u001b[49m\u001b[43mheaders\u001b[49m\u001b[43m=\u001b[49m\u001b[43mheaders\u001b[49m\u001b[43m,\u001b[49m\n\u001b[32m    428\u001b[39m \u001b[43m        \u001b[49m\u001b[43mbody\u001b[49m\u001b[43m=\u001b[49m\u001b[43mbody\u001b[49m\u001b[43m,\u001b[49m\n\u001b[32m    429\u001b[39m \u001b[43m        \u001b[49m\u001b[43mendpoint_id\u001b[49m\u001b[43m=\u001b[49m\u001b[43mendpoint_id\u001b[49m\u001b[43m,\u001b[49m\n\u001b[32m    430\u001b[39m \u001b[43m        \u001b[49m\u001b[43mpath_parts\u001b[49m\u001b[43m=\u001b[49m\u001b[43mpath_parts\u001b[49m\u001b[43m,\u001b[49m\n\u001b[32m    431\u001b[39m \u001b[43m    \u001b[49m\u001b[43m)\u001b[49m\n",
      "\u001b[36mFile \u001b[39m\u001b[32md:\\DataScience\\llmzoom2025\\llmzoom\\.venv\\Lib\\site-packages\\elasticsearch\\_sync\\client\\_base.py:271\u001b[39m, in \u001b[36mBaseClient.perform_request\u001b[39m\u001b[34m(self, method, path, params, headers, body, endpoint_id, path_parts)\u001b[39m\n\u001b[32m    255\u001b[39m \u001b[38;5;28;01mdef\u001b[39;00m\u001b[38;5;250m \u001b[39m\u001b[34mperform_request\u001b[39m(\n\u001b[32m    256\u001b[39m     \u001b[38;5;28mself\u001b[39m,\n\u001b[32m    257\u001b[39m     method: \u001b[38;5;28mstr\u001b[39m,\n\u001b[32m   (...)\u001b[39m\u001b[32m    264\u001b[39m     path_parts: Optional[Mapping[\u001b[38;5;28mstr\u001b[39m, Any]] = \u001b[38;5;28;01mNone\u001b[39;00m,\n\u001b[32m    265\u001b[39m ) -> ApiResponse[Any]:\n\u001b[32m    266\u001b[39m     \u001b[38;5;28;01mwith\u001b[39;00m \u001b[38;5;28mself\u001b[39m._otel.span(\n\u001b[32m    267\u001b[39m         method,\n\u001b[32m    268\u001b[39m         endpoint_id=endpoint_id,\n\u001b[32m    269\u001b[39m         path_parts=path_parts \u001b[38;5;129;01mor\u001b[39;00m {},\n\u001b[32m    270\u001b[39m     ) \u001b[38;5;28;01mas\u001b[39;00m otel_span:\n\u001b[32m--> \u001b[39m\u001b[32m271\u001b[39m         response = \u001b[38;5;28;43mself\u001b[39;49m\u001b[43m.\u001b[49m\u001b[43m_perform_request\u001b[49m\u001b[43m(\u001b[49m\n\u001b[32m    272\u001b[39m \u001b[43m            \u001b[49m\u001b[43mmethod\u001b[49m\u001b[43m,\u001b[49m\n\u001b[32m    273\u001b[39m \u001b[43m            \u001b[49m\u001b[43mpath\u001b[49m\u001b[43m,\u001b[49m\n\u001b[32m    274\u001b[39m \u001b[43m            \u001b[49m\u001b[43mparams\u001b[49m\u001b[43m=\u001b[49m\u001b[43mparams\u001b[49m\u001b[43m,\u001b[49m\n\u001b[32m    275\u001b[39m \u001b[43m            \u001b[49m\u001b[43mheaders\u001b[49m\u001b[43m=\u001b[49m\u001b[43mheaders\u001b[49m\u001b[43m,\u001b[49m\n\u001b[32m    276\u001b[39m \u001b[43m            \u001b[49m\u001b[43mbody\u001b[49m\u001b[43m=\u001b[49m\u001b[43mbody\u001b[49m\u001b[43m,\u001b[49m\n\u001b[32m    277\u001b[39m \u001b[43m            \u001b[49m\u001b[43motel_span\u001b[49m\u001b[43m=\u001b[49m\u001b[43motel_span\u001b[49m\u001b[43m,\u001b[49m\n\u001b[32m    278\u001b[39m \u001b[43m        \u001b[49m\u001b[43m)\u001b[49m\n\u001b[32m    279\u001b[39m         otel_span.set_elastic_cloud_metadata(response.meta.headers)\n\u001b[32m    280\u001b[39m         \u001b[38;5;28;01mreturn\u001b[39;00m response\n",
      "\u001b[36mFile \u001b[39m\u001b[32md:\\DataScience\\llmzoom2025\\llmzoom\\.venv\\Lib\\site-packages\\elasticsearch\\_sync\\client\\_base.py:352\u001b[39m, in \u001b[36mBaseClient._perform_request\u001b[39m\u001b[34m(self, method, path, params, headers, body, otel_span)\u001b[39m\n\u001b[32m    349\u001b[39m         \u001b[38;5;28;01mexcept\u001b[39;00m (\u001b[38;5;167;01mValueError\u001b[39;00m, \u001b[38;5;167;01mKeyError\u001b[39;00m, \u001b[38;5;167;01mTypeError\u001b[39;00m):\n\u001b[32m    350\u001b[39m             \u001b[38;5;28;01mpass\u001b[39;00m\n\u001b[32m--> \u001b[39m\u001b[32m352\u001b[39m     \u001b[38;5;28;01mraise\u001b[39;00m HTTP_EXCEPTIONS.get(meta.status, ApiError)(\n\u001b[32m    353\u001b[39m         message=message, meta=meta, body=resp_body\n\u001b[32m    354\u001b[39m     )\n\u001b[32m    356\u001b[39m \u001b[38;5;66;03m# 'X-Elastic-Product: Elasticsearch' should be on every 2XX response.\u001b[39;00m\n\u001b[32m    357\u001b[39m \u001b[38;5;28;01mif\u001b[39;00m \u001b[38;5;129;01mnot\u001b[39;00m \u001b[38;5;28mself\u001b[39m._verified_elasticsearch:\n\u001b[32m    358\u001b[39m     \u001b[38;5;66;03m# If the header is set we mark the server as verified.\u001b[39;00m\n",
      "\u001b[31mBadRequestError\u001b[39m: BadRequestError(400, 'resource_already_exists_exception', 'index [course-questions/qy2GKEKZQ6CW3FBL8Z8oog] already exists')"
     ]
    }
   ],
   "source": [
    "index_settings = {\n",
    "    \"settings\": {\n",
    "        \"number_of_shards\": 1,\n",
    "        \"number_of_replicas\": 0\n",
    "    },\n",
    "    \"mappings\": {\n",
    "        \"properties\": {\n",
    "            \"text\": {\"type\": \"text\"},\n",
    "            \"section\": {\"type\": \"text\"},\n",
    "            \"question\": {\"type\": \"text\"},\n",
    "            \"course\": {\"type\": \"keyword\"} \n",
    "        }\n",
    "    }\n",
    "}\n",
    "\n",
    "index_name = \"course-questions\"\n",
    "\n",
    "es.indices.create(index=index_name, body=index_settings)"
   ]
  },
  {
   "cell_type": "code",
   "execution_count": 4,
   "id": "2fc8a4f1",
   "metadata": {},
   "outputs": [
    {
     "data": {
      "text/plain": [
       "{'text': \"The purpose of this document is to capture frequently asked technical questions\\nThe exact day and hour of the course will be 15th Jan 2024 at 17h00. The course will start with the first  “Office Hours'' live.1\\nSubscribe to course public Google Calendar (it works from Desktop only).\\nRegister before the course starts using this link.\\nJoin the course Telegram channel with announcements.\\nDon’t forget to register in DataTalks.Club's Slack and join the channel.\",\n",
       " 'section': 'General course-related questions',\n",
       " 'question': 'Course - When will the course start?',\n",
       " 'course': 'data-engineering-zoomcamp'}"
      ]
     },
     "execution_count": 4,
     "metadata": {},
     "output_type": "execute_result"
    }
   ],
   "source": [
    "documents[0]"
   ]
  },
  {
   "cell_type": "markdown",
   "id": "7bada258",
   "metadata": {},
   "source": [
    "### Q2 - Indexing the data"
   ]
  },
  {
   "cell_type": "markdown",
   "id": "54932243",
   "metadata": {},
   "source": [
    "Which function do you use for adding your data to elastic?\n",
    "\n",
    "- index"
   ]
  },
  {
   "cell_type": "code",
   "execution_count": 6,
   "id": "0027b00b",
   "metadata": {},
   "outputs": [
    {
     "name": "stderr",
     "output_type": "stream",
     "text": [
      "d:\\DataScience\\LLM_Zoomcamp\\llm-zoomcamp\\.venv\\Lib\\site-packages\\tqdm\\auto.py:21: TqdmWarning: IProgress not found. Please update jupyter and ipywidgets. See https://ipywidgets.readthedocs.io/en/stable/user_install.html\n",
      "  from .autonotebook import tqdm as notebook_tqdm\n",
      "100%|██████████| 948/948 [00:47<00:00, 20.04it/s]\n"
     ]
    }
   ],
   "source": [
    "from tqdm.auto import tqdm\n",
    "for doc in tqdm(documents):\n",
    "    es.index(index=index_name, document=doc)"
   ]
  },
  {
   "cell_type": "markdown",
   "id": "a1adf409",
   "metadata": {},
   "source": [
    "### Q3. Searching\n",
    "\n",
    "Now let's search in our index. \n",
    "\n",
    "We will execute a query \"How do execute a command on a Kubernetes pod?\". \n",
    "\n",
    "Use only `question` and `text` fields and give `question` a boost of 4, and use `\"type\": \"best_fields\"`.\n",
    "\n",
    "What's the score for the top ranking result?\n",
    "\n",
    "* 84.50\n",
    "* 64.50\n",
    "* 44.50\n",
    "* 24.50\n",
    "\n",
    "Look at the `_score` field."
   ]
  },
  {
   "cell_type": "code",
   "execution_count": 7,
   "id": "c791a45b",
   "metadata": {},
   "outputs": [],
   "source": [
    "query = 'How do execute a command on a Kubernetes pod?'"
   ]
  },
  {
   "cell_type": "code",
   "execution_count": 8,
   "id": "8e3154e3",
   "metadata": {},
   "outputs": [],
   "source": [
    "def elastic_search(query):\n",
    "    search_query = {\n",
    "    \"size\": 5,\n",
    "    \"query\": {\n",
    "        \"bool\": {\n",
    "            \"must\": {\n",
    "                \"multi_match\": {\n",
    "                    \"query\": query,\n",
    "                    \"fields\": [\"question^4\", \"text\"],\n",
    "                    \"type\": \"best_fields\"\n",
    "                }\n",
    "            }\n",
    "        }\n",
    "    }\n",
    "}\n",
    "\n",
    "    response = es.search(index=index_name, body=search_query)\n",
    "    return response    \n",
    "    # result_docs = []\n",
    "    \n",
    "    # for hit in response['hits']['hits']:\n",
    "    #     result_docs.append(hit['_source'])\n",
    "    \n",
    "    # return result_docs"
   ]
  },
  {
   "cell_type": "code",
   "execution_count": null,
   "id": "843e342e",
   "metadata": {},
   "outputs": [
    {
     "name": "stdout",
     "output_type": "stream",
     "text": [
      "Score: 44.50556, Course: machine-learning-zoomcamp, Question: How do I debug a docker container?\n",
      "Text: Launch the container image in interactive mode and overriding the entrypoint, so that it starts a bash command.\n",
      "docker run -it --entrypoint bash <image>\n",
      "If the container is already running, execute a command in the specific container:\n",
      "docker ps (find the container-id)\n",
      "docker exec -it <container-id> bash\n",
      "(Marcos MJD)\n",
      "\n",
      "Score: 35.433445, Course: machine-learning-zoomcamp, Question: Kubernetes-dashboard\n",
      "Text: Deploy and Access the Kubernetes Dashboard\n",
      "Luke\n",
      "\n",
      "Score: 33.70974, Course: machine-learning-zoomcamp, Question: How do I copy files from a different folder into docker container’s working directory?\n",
      "Text: You can copy files from your local machine into a Docker container using the docker cp command. Here's how to do it:\n",
      "In the Dockerfile, you can provide the folder containing the files that you want to copy over. The basic syntax is as follows:\n",
      "COPY [\"src/predict.py\", \"models/xgb_model.bin\", \"./\"]\t\t\t\t\t\t\t\t\t\t\tGopakumar Gopinathan\n",
      "\n",
      "Score: 33.2635, Course: machine-learning-zoomcamp, Question: How to run a script while a web-server is working?\n",
      "Text: Problem description:\n",
      "I started a web-server in terminal (command window, powershell, etc.). How can I run another python script, which makes a request to this server?\n",
      "Solution description:\n",
      "Just open another terminal (command window, powershell, etc.) and run a python script.\n",
      "Alena Kniazeva\n",
      "\n",
      "Score: 32.589073, Course: machine-learning-zoomcamp, Question: How can I annotate a graph?\n",
      "Text: Matplotlib has a cool method to annotate where you could provide an X,Y point and annotate with an arrow and text. For example this will show an arrow pointing to the x,y point optimal threshold.\n",
      "plt.annotate(f'Optimal Threshold: {optimal_threshold:.2f}\\nOptimal F1 Score: {optimal_f1_score:.2f}',\n",
      "xy=(optimal_threshold, optimal_f1_score),\n",
      "xytext=(0.3, 0.5),\n",
      "textcoords='axes fraction',\n",
      "arrowprops=dict(facecolor='black', shrink=0.05))\n",
      "Quinn Avila\n",
      "\n"
     ]
    }
   ],
   "source": [
    "response = elastic_search(query)\n",
    "for hit in response['hits']['hits']:\n",
    "    print(f\"Score: {hit['_score']}, Course: {hit['_source']['course']}, Question: {hit['_source']['question']}\")\n",
    "    print(f\"Text: {hit['_source']['text']}\\n\")"
   ]
  },
  {
   "cell_type": "markdown",
   "id": "2419f097",
   "metadata": {},
   "source": [
    "Score: 44.50556"
   ]
  },
  {
   "cell_type": "markdown",
   "id": "11a1d5d7",
   "metadata": {},
   "source": [
    "### Q4. Filtering\n",
    "\n",
    "Now ask a different question: \"How do copy a file to a Docker container?\".\n",
    "\n",
    "This time we are only interested in questions from `machine-learning-zoomcamp`.\n",
    "\n",
    "Return 3 results. What's the 3rd question returned by the search engine?\n",
    "\n",
    "* How do I debug a docker container?\n",
    "* How do I copy files from a different folder into docker container’s working directory?\n",
    "* How do Lambda container images work?\n",
    "* How can I annotate a graph?"
   ]
  },
  {
   "cell_type": "code",
   "execution_count": 10,
   "id": "5bbae5a1",
   "metadata": {},
   "outputs": [],
   "source": [
    "query = \"How do copy a file to a Docker container?\""
   ]
  },
  {
   "cell_type": "code",
   "execution_count": 11,
   "id": "a30d320d",
   "metadata": {},
   "outputs": [],
   "source": [
    "def elastic_search(query):\n",
    "    search_query = {\n",
    "        \"size\": 3,\n",
    "        \"query\": {\n",
    "            \"bool\": {\n",
    "                \"must\": {\n",
    "                    \"multi_match\": {\n",
    "                        \"query\": query,\n",
    "                        \"fields\": [\"question^4\", \"text\", \"section\"],\n",
    "                        \"type\": \"best_fields\"\n",
    "                    }\n",
    "                },\n",
    "                \"filter\": {\n",
    "                    \"term\": {\n",
    "                        \"course\": \"machine-learning-zoomcamp\"\n",
    "                    }\n",
    "                }\n",
    "            }\n",
    "        }\n",
    "    }\n",
    "\n",
    "    response = es.search(index=index_name, body=search_query)\n",
    "    \n",
    "    result_docs = []\n",
    "    \n",
    "    for hit in response['hits']['hits']:\n",
    "        result_docs.append(hit['_source'])\n",
    "    \n",
    "    return result_docs"
   ]
  },
  {
   "cell_type": "code",
   "execution_count": 12,
   "id": "25451818",
   "metadata": {},
   "outputs": [
    {
     "name": "stdout",
     "output_type": "stream",
     "text": [
      "Course: machine-learning-zoomcamp, Section: 5. Deploying Machine Learning Models\n",
      "Question: How do I debug a docker container?\n",
      "Text: Launch the container image in interactive mode and overriding the entrypoint, so that it starts a bash command.\n",
      "docker run -it --entrypoint bash <image>\n",
      "If the container is already running, execute a command in the specific container:\n",
      "docker ps (find the container-id)\n",
      "docker exec -it <container-id> bash\n",
      "(Marcos MJD)\n",
      "\n",
      "Course: machine-learning-zoomcamp, Section: 5. Deploying Machine Learning Models\n",
      "Question: How do I copy files from my local machine to docker container?\n",
      "Text: You can copy files from your local machine into a Docker container using the docker cp command. Here's how to do it:\n",
      "To copy a file or directory from your local machine into a running Docker container, you can use the `docker cp command`. The basic syntax is as follows:\n",
      "docker cp /path/to/local/file_or_directory container_id:/path/in/container\n",
      "Hrithik Kumar Advani\n",
      "\n",
      "Course: machine-learning-zoomcamp, Section: 5. Deploying Machine Learning Models\n",
      "Question: How do I copy files from a different folder into docker container’s working directory?\n",
      "Text: You can copy files from your local machine into a Docker container using the docker cp command. Here's how to do it:\n",
      "In the Dockerfile, you can provide the folder containing the files that you want to copy over. The basic syntax is as follows:\n",
      "COPY [\"src/predict.py\", \"models/xgb_model.bin\", \"./\"]\t\t\t\t\t\t\t\t\t\t\tGopakumar Gopinathan\n",
      "\n"
     ]
    }
   ],
   "source": [
    "docs = elastic_search(query)\n",
    "for doc in docs:\n",
    "    print(f\"Course: {doc['course']}, Section: {doc['section']}\")\n",
    "    print(f\"Question: {doc['question']}\")\n",
    "    print(f\"Text: {doc['text']}\\n\")"
   ]
  },
  {
   "cell_type": "markdown",
   "id": "07f8d045",
   "metadata": {},
   "source": [
    "3rd question returned by the search engine\n",
    "\n",
    "Question: How do I copy files from a different folder into docker container’s working directory?"
   ]
  },
  {
   "cell_type": "markdown",
   "id": "2fd1a892",
   "metadata": {},
   "source": [
    "### Q5. Building a prompt\n",
    "\n",
    "Now we're ready to build a prompt to send to an LLM. \n",
    "\n",
    "Take the records returned from Elasticsearch in Q4 and use this template to build the context. Separate context entries by two linebreaks (`\\n\\n`)\n",
    "```python\n",
    "context_template = \"\"\"\n",
    "Q: {question}\n",
    "A: {text}\n",
    "\"\"\".strip()\n",
    "```\n",
    "\n",
    "Now use the context you just created along with the \"How do I execute a command in a running docker container?\" question \n",
    "to construct a prompt using the template below:\n",
    "\n",
    "```\n",
    "prompt_template = \"\"\"\n",
    "You're a course teaching assistant. Answer the QUESTION based on the CONTEXT from the FAQ database.\n",
    "Use only the facts from the CONTEXT when answering the QUESTION.\n",
    "\n",
    "QUESTION: {question}\n",
    "\n",
    "CONTEXT:\n",
    "{context}\n",
    "\"\"\".strip()\n",
    "```\n",
    "\n",
    "What's the length of the resulting prompt? (use the `len` function)\n",
    "\n",
    "* 946\n",
    "* 1446\n",
    "* 1946\n",
    "* 2446"
   ]
  },
  {
   "cell_type": "code",
   "execution_count": 28,
   "id": "944ba94f",
   "metadata": {},
   "outputs": [],
   "source": [
    "def build_prompt(query, search_results):\n",
    "    prompt_template = \"\"\"\n",
    "You're a course teaching assistant. Answer the QUESTION based on the CONTEXT from the FAQ database.\n",
    "Use only the facts from the CONTEXT when answering the QUESTION.\n",
    "\n",
    "QUESTION: {question}\n",
    "\n",
    "CONTEXT:\n",
    "{context}\n",
    "\"\"\".strip()\n",
    "\n",
    "    context_template = \"\"\"\n",
    "Q: {question}\n",
    "A: {text}\n",
    "\"\"\".strip()\n",
    "    context = \"\"\n",
    "    \n",
    "    for doc in search_results:\n",
    "        context += context_template.format(question=doc['question'], text=doc['text']) + \"\\n\\n\"\n",
    "    # context = context.strip()\n",
    "        # context = context + f\"section: {doc['section']}\\nquestion: {doc['question']}\\nanswer: {doc['text']}\\n\\n\"\n",
    "    \n",
    "    prompt = prompt_template.format(question=query, context=context).strip()\n",
    "    return prompt"
   ]
  },
  {
   "cell_type": "code",
   "execution_count": 29,
   "id": "f90ed1c6",
   "metadata": {},
   "outputs": [
    {
     "name": "stdout",
     "output_type": "stream",
     "text": [
      "You're a course teaching assistant. Answer the QUESTION based on the CONTEXT from the FAQ database.\n",
      "Use only the facts from the CONTEXT when answering the QUESTION.\n",
      "\n",
      "QUESTION: How do copy a file to a Docker container?\n",
      "\n",
      "CONTEXT:\n",
      "Q: How do I debug a docker container?\n",
      "A: Launch the container image in interactive mode and overriding the entrypoint, so that it starts a bash command.\n",
      "docker run -it --entrypoint bash <image>\n",
      "If the container is already running, execute a command in the specific container:\n",
      "docker ps (find the container-id)\n",
      "docker exec -it <container-id> bash\n",
      "(Marcos MJD)\n",
      "\n",
      "Q: How do I copy files from my local machine to docker container?\n",
      "A: You can copy files from your local machine into a Docker container using the docker cp command. Here's how to do it:\n",
      "To copy a file or directory from your local machine into a running Docker container, you can use the `docker cp command`. The basic syntax is as follows:\n",
      "docker cp /path/to/local/file_or_directory container_id:/path/in/container\n",
      "Hrithik Kumar Advani\n",
      "\n",
      "Q: How do I copy files from a different folder into docker container’s working directory?\n",
      "A: You can copy files from your local machine into a Docker container using the docker cp command. Here's how to do it:\n",
      "In the Dockerfile, you can provide the folder containing the files that you want to copy over. The basic syntax is as follows:\n",
      "COPY [\"src/predict.py\", \"models/xgb_model.bin\", \"./\"]\t\t\t\t\t\t\t\t\t\t\tGopakumar Gopinathan\n",
      "Length of the prompt: 1446\n"
     ]
    }
   ],
   "source": [
    "prompt = build_prompt(query, docs)\n",
    "print(prompt)\n",
    "print(\"Length of the prompt:\", len(prompt))"
   ]
  },
  {
   "cell_type": "markdown",
   "id": "23c50b49",
   "metadata": {},
   "source": [
    "Length of the resulting prompt is 1446"
   ]
  },
  {
   "cell_type": "markdown",
   "id": "10e47acc",
   "metadata": {},
   "source": [
    "### Q6. Tokens\n",
    "\n",
    "When we use the OpenAI Platform, we're charged by the number of \n",
    "tokens we send in our prompt and receive in the response.\n",
    "\n",
    "The OpenAI python package uses `tiktoken` for tokenization:\n",
    "\n",
    "```bash\n",
    "pip install tiktoken\n",
    "```\n",
    "\n",
    "Let's calculate the number of tokens in our query: \n",
    "\n",
    "```python\n",
    "encoding = tiktoken.encoding_for_model(\"gpt-4o\")\n",
    "```\n",
    "\n",
    "Use the `encode` function. How many tokens does our prompt have?\n",
    "\n",
    "* 120\n",
    "* 220\n",
    "* 320\n",
    "* 420\n",
    "\n",
    "Note: to decode back a token into a word, you can use the `decode_single_token_bytes` function:\n",
    "\n",
    "```python\n",
    "encoding.decode_single_token_bytes(63842)\n",
    "```"
   ]
  },
  {
   "cell_type": "code",
   "execution_count": 30,
   "id": "31942f61",
   "metadata": {},
   "outputs": [],
   "source": [
    "from openai import OpenAI\n",
    "import tiktoken\n",
    "client = OpenAI()"
   ]
  },
  {
   "cell_type": "code",
   "execution_count": null,
   "id": "abffff07",
   "metadata": {},
   "outputs": [
    {
     "name": "stdout",
     "output_type": "stream",
     "text": [
      "Number of tokens in the prompt: 320\n"
     ]
    }
   ],
   "source": [
    "def num_tokens_from_string(string: str) -> int:\n",
    "    \"\"\"Returns the number of tokens in a text string.\"\"\"\n",
    "    encoding = tiktoken.encoding_for_model(\"gpt-4o\")\n",
    "    num_tokens = len(encoding.encode(string))\n",
    "    return num_tokens\n",
    "# get number of tokens in the prompt\n",
    "num_tokens = num_tokens_from_string(prompt)\n",
    "print(f\"Number of tokens in the prompt: {num_tokens}\")"
   ]
  },
  {
   "cell_type": "markdown",
   "id": "11c57792",
   "metadata": {},
   "source": [
    "Number of tokens in the prompt: 320"
   ]
  },
  {
   "cell_type": "code",
   "execution_count": 40,
   "id": "720d40e3",
   "metadata": {},
   "outputs": [
    {
     "name": "stdout",
     "output_type": "stream",
     "text": [
      "LLM response:\n",
      "To copy a file to a Docker container from your local machine, you can use the `docker cp` command. The basic syntax is as follows:\n",
      "\n",
      "```shell\n",
      "docker cp /path/to/local/file_or_directory container_id:/path/in/container\n",
      "```\n"
     ]
    }
   ],
   "source": [
    "def llm(prompt):\n",
    "    response = client.chat.completions.create(\n",
    "        model='gpt-4o',\n",
    "        messages=[{\"role\": \"user\", \"content\": prompt}]\n",
    "    )\n",
    "    \n",
    "    return response.choices[0].message.content\n",
    "\n",
    "response = llm(prompt)\n",
    "print(\"LLM response:\")\n",
    "print(response)"
   ]
  },
  {
   "cell_type": "code",
   "execution_count": 39,
   "id": "29bcb631",
   "metadata": {},
   "outputs": [
    {
     "data": {
      "text/plain": [
       "'You can copy a file to a Docker container using the `docker cp` command. The basic syntax for copying a file or directory from your local machine to a running Docker container is:\\n\\n```\\ndocker cp /path/to/local/file_or_directory container_id:/path/in/container\\n```'"
      ]
     },
     "execution_count": 39,
     "metadata": {},
     "output_type": "execute_result"
    }
   ],
   "source": [
    "response"
   ]
  },
  {
   "cell_type": "markdown",
   "id": "1b213dab",
   "metadata": {},
   "source": []
  }
 ],
 "metadata": {
  "kernelspec": {
   "display_name": ".venv",
   "language": "python",
   "name": "python3"
  },
  "language_info": {
   "codemirror_mode": {
    "name": "ipython",
    "version": 3
   },
   "file_extension": ".py",
   "mimetype": "text/x-python",
   "name": "python",
   "nbconvert_exporter": "python",
   "pygments_lexer": "ipython3",
   "version": "3.11.0"
  }
 },
 "nbformat": 4,
 "nbformat_minor": 5
}
